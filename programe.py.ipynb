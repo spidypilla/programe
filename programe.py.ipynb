import pandas as pd
import matplotlib.pyplot as plt
X=[10,20,30,40,50]
Y=[5,10,15,25,78]
plt.boxplot(X,Y)
plt.xlabel("Yaswanth")
plt.ylabel("cndjs")
plt.title("nvjnnj")
plt.show()
